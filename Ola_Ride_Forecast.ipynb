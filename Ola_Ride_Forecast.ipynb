{
  "nbformat": 4,
  "nbformat_minor": 0,
  "metadata": {
    "colab": {
      "provenance": [],
      "include_colab_link": true
    },
    "kernelspec": {
      "name": "python3",
      "display_name": "Python 3"
    },
    "language_info": {
      "name": "python"
    }
  },
  "cells": [
    {
      "cell_type": "markdown",
      "metadata": {
        "id": "view-in-github",
        "colab_type": "text"
      },
      "source": [
        "<a href=\"https://colab.research.google.com/github/Indrakaran1411/Product_sales_analysis_Dashboard/blob/main/Ola_Ride_Forecast.ipynb\" target=\"_parent\"><img src=\"https://colab.research.google.com/assets/colab-badge.svg\" alt=\"Open In Colab\"/></a>"
      ]
    },
    {
      "cell_type": "code",
      "execution_count": null,
      "metadata": {
        "colab": {
          "base_uri": "https://localhost:8080/"
        },
        "id": "XCoNNCRB2gLN",
        "outputId": "1471aaf6-2e2b-4b45-8422-b0bcd7c95137"
      },
      "outputs": [
        {
          "output_type": "stream",
          "name": "stdout",
          "text": [
            "Downloading chh-ola, 29099188 bytes compressed\n",
            "[==================================================] 29099188 bytes downloaded\n",
            "Downloaded and uncompressed: chh-ola\n",
            "Data source import complete.\n"
          ]
        }
      ],
      "source": [
        "# IMPORTANT: RUN THIS CELL IN ORDER TO IMPORT YOUR KAGGLE DATA SOURCES\n",
        "# TO THE CORRECT LOCATION (/kaggle/input) IN YOUR NOTEBOOK,\n",
        "# THEN FEEL FREE TO DELETE THIS CELL.\n",
        "# NOTE: THIS NOTEBOOK ENVIRONMENT DIFFERS FROM KAGGLE'S PYTHON\n",
        "# ENVIRONMENT SO THERE MAY BE MISSING LIBRARIES USED BY YOUR\n",
        "# NOTEBOOK.\n",
        "\n",
        "import os\n",
        "import sys\n",
        "from tempfile import NamedTemporaryFile\n",
        "from urllib.request import urlopen\n",
        "from urllib.parse import unquote, urlparse\n",
        "from urllib.error import HTTPError\n",
        "from zipfile import ZipFile\n",
        "import tarfile\n",
        "import shutil\n",
        "\n",
        "CHUNK_SIZE = 40960\n",
        "DATA_SOURCE_MAPPING = 'chh-ola:https%3A%2F%2Fstorage.googleapis.com%2Fkaggle-competitions-data%2Fkaggle-v2%2F15848%2F670358%2Fbundle%2Farchive.zip%3FX-Goog-Algorithm%3DGOOG4-RSA-SHA256%26X-Goog-Credential%3Dgcp-kaggle-com%2540kaggle-161607.iam.gserviceaccount.com%252F20240611%252Fauto%252Fstorage%252Fgoog4_request%26X-Goog-Date%3D20240611T150716Z%26X-Goog-Expires%3D259200%26X-Goog-SignedHeaders%3Dhost%26X-Goog-Signature%3D807a4949a81d3ab2fb65b864734feddcd6a2cd28ab1e3005401877742980bbf140ca3da455cf0aae2ba8ccfa26e370bc803f0a43f019f0cfd79cf2605ab39203b231f6d474af27760960b5060c7fac504761957b4607d64b37d6857a4587fc47e20571bd3307bee98bbe72f5e4ac87a84b6dba5284c6ab09d2f5fcb65fac433fef18dab09f50a3e32682e986792ffaabdcc0327f39fe8f343c6f6673f478aa072b73153403434202ab6654d495b5fe800170131ecc6a8bcdab89dd962a6eaf8bcd5e068db6b8353f9b7486f3ca48b6f0350a349168bbcfcacffcb74a0a8c5cb245c52aaedf297e648616e691ffee3d70ba24d0d96bcf4c6ab0f923c01c9eadd1'\n",
        "\n",
        "KAGGLE_INPUT_PATH='/kaggle/input'\n",
        "KAGGLE_WORKING_PATH='/kaggle/working'\n",
        "KAGGLE_SYMLINK='kaggle'\n",
        "\n",
        "!umount /kaggle/input/ 2> /dev/null\n",
        "shutil.rmtree('/kaggle/input', ignore_errors=True)\n",
        "os.makedirs(KAGGLE_INPUT_PATH, 0o777, exist_ok=True)\n",
        "os.makedirs(KAGGLE_WORKING_PATH, 0o777, exist_ok=True)\n",
        "\n",
        "try:\n",
        "  os.symlink(KAGGLE_INPUT_PATH, os.path.join(\"..\", 'input'), target_is_directory=True)\n",
        "except FileExistsError:\n",
        "  pass\n",
        "try:\n",
        "  os.symlink(KAGGLE_WORKING_PATH, os.path.join(\"..\", 'working'), target_is_directory=True)\n",
        "except FileExistsError:\n",
        "  pass\n",
        "\n",
        "for data_source_mapping in DATA_SOURCE_MAPPING.split(','):\n",
        "    directory, download_url_encoded = data_source_mapping.split(':')\n",
        "    download_url = unquote(download_url_encoded)\n",
        "    filename = urlparse(download_url).path\n",
        "    destination_path = os.path.join(KAGGLE_INPUT_PATH, directory)\n",
        "    try:\n",
        "        with urlopen(download_url) as fileres, NamedTemporaryFile() as tfile:\n",
        "            total_length = fileres.headers['content-length']\n",
        "            print(f'Downloading {directory}, {total_length} bytes compressed')\n",
        "            dl = 0\n",
        "            data = fileres.read(CHUNK_SIZE)\n",
        "            while len(data) > 0:\n",
        "                dl += len(data)\n",
        "                tfile.write(data)\n",
        "                done = int(50 * dl / int(total_length))\n",
        "                sys.stdout.write(f\"\\r[{'=' * done}{' ' * (50-done)}] {dl} bytes downloaded\")\n",
        "                sys.stdout.flush()\n",
        "                data = fileres.read(CHUNK_SIZE)\n",
        "            if filename.endswith('.zip'):\n",
        "              with ZipFile(tfile) as zfile:\n",
        "                zfile.extractall(destination_path)\n",
        "            else:\n",
        "              with tarfile.open(tfile.name) as tarfile:\n",
        "                tarfile.extractall(destination_path)\n",
        "            print(f'\\nDownloaded and uncompressed: {directory}')\n",
        "    except HTTPError as e:\n",
        "        print(f'Failed to load (likely expired) {download_url} to path {destination_path}')\n",
        "        continue\n",
        "    except OSError as e:\n",
        "        print(f'Failed to load {download_url} to path {destination_path}')\n",
        "        continue\n",
        "\n",
        "print('Data source import complete.')\n"
      ]
    },
    {
      "cell_type": "code",
      "source": [
        "import numpy as np\n",
        "import pandas as pd\n",
        "import seaborn as sns\n",
        "import matplotlib.pyplot as plt\n",
        "import datetime as dt\n",
        "from sklearn import metrics\n",
        "from sklearn.model_selection import train_test_split\n",
        "import warnings; warnings.simplefilter('ignore')"
      ],
      "metadata": {
        "id": "CXNWlBi427SZ"
      },
      "execution_count": null,
      "outputs": []
    },
    {
      "cell_type": "code",
      "source": [
        "data=pd.read_csv(\"../input/chh-ola/train.csv\")\n",
        "test=pd.read_csv(\"../input/chh-ola/test.csv\")"
      ],
      "metadata": {
        "id": "Cx6egdVI2-3e"
      },
      "execution_count": null,
      "outputs": []
    },
    {
      "cell_type": "code",
      "source": [
        "data.isnull().sum()"
      ],
      "metadata": {
        "colab": {
          "base_uri": "https://localhost:8080/"
        },
        "id": "RdZKQHqE3BDS",
        "outputId": "0ce5b7e0-dc92-41aa-805e-7ac8fc6099bd"
      },
      "execution_count": null,
      "outputs": [
        {
          "output_type": "execute_result",
          "data": {
            "text/plain": [
              "ID                        0\n",
              "vendor+AF8-id             0\n",
              "pickup+AF8-loc            1\n",
              "drop+AF8-loc              1\n",
              "driver+AF8-tip            2\n",
              "mta+AF8-tax               1\n",
              "distance                  1\n",
              "pickup+AF8-time           1\n",
              "drop+AF8-time             1\n",
              "num+AF8-passengers        1\n",
              "toll+AF8-amount           2\n",
              "payment+AF8-method        1\n",
              "rate+AF8-code             1\n",
              "stored+AF8-flag           1\n",
              "extra+AF8-charges         1\n",
              "improvement+AF8-charge    2\n",
              "total+AF8-amount          2\n",
              "dtype: int64"
            ]
          },
          "metadata": {},
          "execution_count": 5
        }
      ]
    },
    {
      "cell_type": "code",
      "source": [
        "data.columns"
      ],
      "metadata": {
        "colab": {
          "base_uri": "https://localhost:8080/"
        },
        "id": "lARMoC4Z3EzS",
        "outputId": "c8cca0a7-c0f9-4914-dee2-2b7d3f886d85"
      },
      "execution_count": null,
      "outputs": [
        {
          "output_type": "execute_result",
          "data": {
            "text/plain": [
              "Index(['ID', 'vendor+AF8-id', 'pickup+AF8-loc', 'drop+AF8-loc',\n",
              "       'driver+AF8-tip', 'mta+AF8-tax', 'distance', 'pickup+AF8-time',\n",
              "       'drop+AF8-time', 'num+AF8-passengers', 'toll+AF8-amount',\n",
              "       'payment+AF8-method', 'rate+AF8-code', 'stored+AF8-flag',\n",
              "       'extra+AF8-charges', 'improvement+AF8-charge', 'total+AF8-amount'],\n",
              "      dtype='object')"
            ]
          },
          "metadata": {},
          "execution_count": 6
        }
      ]
    },
    {
      "cell_type": "code",
      "source": [
        "data.rename(columns = {'vendor+AF8-id': \"vendor_id\",\n",
        "                        'pickup+AF8-loc': \"pickup_loc\",\n",
        "                        'drop+AF8-loc' : \"drop_loc\",\n",
        "                        'driver+AF8-tip': \"driver_tip\",\n",
        "                        'mta+AF8-tax' : \"mta_tax\",\n",
        "                        'pickup+AF8-time' : \"pickup_time\",\n",
        "                        'drop+AF8-time' : \"drop_time\",\n",
        "                        'num+AF8-passengers' : \"num_passengers\",\n",
        "                        'toll+AF8-amount' : \"toll_amount\",\n",
        "                        'payment+AF8-method' : \"payment_method\",\n",
        "                        'rate+AF8-code' : \"rate_code\",\n",
        "                        'stored+AF8-flag' : \"stored_flag\",\n",
        "                        'extra+AF8-charges' : \"extra_charges\",\n",
        "                        'improvement+AF8-charge' : \"improvement_charge\",\n",
        "                        'total+AF8-amount': \"total_amount\"\n",
        "                        }, inplace = True)"
      ],
      "metadata": {
        "id": "nG6yy2Xn3IKZ"
      },
      "execution_count": null,
      "outputs": []
    },
    {
      "cell_type": "code",
      "source": [
        "data.shape"
      ],
      "metadata": {
        "id": "agk4ZqDH3LbZ"
      },
      "execution_count": null,
      "outputs": []
    },
    {
      "cell_type": "code",
      "source": [
        "data['pickup_time']=pd.to_datetime(data['pickup_time'])"
      ],
      "metadata": {
        "id": "3f7pExro3N1A"
      },
      "execution_count": null,
      "outputs": []
    },
    {
      "cell_type": "code",
      "source": [
        "data['drop_time']=pd.to_datetime(data['drop_time'])"
      ],
      "metadata": {
        "id": "nfhCP5By3QNo"
      },
      "execution_count": null,
      "outputs": []
    },
    {
      "cell_type": "code",
      "source": [
        "data['trip_duration']=data['drop_time']-data['pickup_time']"
      ],
      "metadata": {
        "id": "9EPfesVx3So_"
      },
      "execution_count": null,
      "outputs": []
    },
    {
      "cell_type": "code",
      "source": [
        "data['trip_duration'] = data['trip_duration'].astype('timedelta64[s]')"
      ],
      "metadata": {
        "id": "_ZnTQaPn3U6V"
      },
      "execution_count": null,
      "outputs": []
    },
    {
      "cell_type": "code",
      "source": [
        "data.drop(['pickup_time', \"drop_time\",'ID', \"vendor_id\", \"drop_loc\", \"pickup_loc\", \"stored_flag\", \"mta_tax\", \"improvement_charge\" ], axis = 1, inplace = True)"
      ],
      "metadata": {
        "id": "uHCrL1TZ3XD_"
      },
      "execution_count": null,
      "outputs": []
    },
    {
      "cell_type": "code",
      "source": [
        "data.shape"
      ],
      "metadata": {
        "id": "uAJbAyLO3a9w"
      },
      "execution_count": null,
      "outputs": []
    },
    {
      "cell_type": "code",
      "source": [
        "data.info()"
      ],
      "metadata": {
        "id": "MvSlyQbK3dOh"
      },
      "execution_count": null,
      "outputs": []
    },
    {
      "cell_type": "code",
      "source": [
        "data.head()"
      ],
      "metadata": {
        "id": "gsP5kxGp3fK3"
      },
      "execution_count": null,
      "outputs": []
    },
    {
      "cell_type": "code",
      "source": [
        "data.columns"
      ],
      "metadata": {
        "id": "2fOqyNYM3g41"
      },
      "execution_count": null,
      "outputs": []
    },
    {
      "cell_type": "code",
      "source": [
        "data.isnull().sum()"
      ],
      "metadata": {
        "id": "SgJcvdn-3j6T"
      },
      "execution_count": null,
      "outputs": []
    },
    {
      "cell_type": "code",
      "source": [
        "data.isnull().sum().sum()"
      ],
      "metadata": {
        "id": "CILTfV4w3muG"
      },
      "execution_count": null,
      "outputs": []
    },
    {
      "cell_type": "code",
      "source": [
        "cat_cols = [\"driver_tip\", \"toll_amount\", \"extra_charges\", \"total_amount\"]\n",
        "num_cols = [c for c in data.columns if c not in cat_cols]\n",
        "print (num_cols)"
      ],
      "metadata": {
        "id": "smYUnmWT3pHT"
      },
      "execution_count": null,
      "outputs": []
    },
    {
      "cell_type": "code",
      "source": [
        "for c in num_cols :\n",
        "  data[c].fillna((data[c].mean()),inplace=True)"
      ],
      "metadata": {
        "colab": {
          "base_uri": "https://localhost:8080/",
          "height": 158
        },
        "id": "5GYedxqT3re1",
        "outputId": "a3387916-ec06-4d34-915a-a7f1ba131da0"
      },
      "execution_count": null,
      "outputs": [
        {
          "output_type": "error",
          "ename": "NameError",
          "evalue": "name 'num_cols' is not defined",
          "traceback": [
            "\u001b[0;31m---------------------------------------------------------------------------\u001b[0m",
            "\u001b[0;31mNameError\u001b[0m                                 Traceback (most recent call last)",
            "\u001b[0;32m<ipython-input-8-4ec62b33a16d>\u001b[0m in \u001b[0;36m<cell line: 1>\u001b[0;34m()\u001b[0m\n\u001b[0;32m----> 1\u001b[0;31m \u001b[0;32mfor\u001b[0m \u001b[0mc\u001b[0m \u001b[0;32min\u001b[0m \u001b[0mnum_cols\u001b[0m \u001b[0;34m:\u001b[0m\u001b[0;34m\u001b[0m\u001b[0;34m\u001b[0m\u001b[0m\n\u001b[0m\u001b[1;32m      2\u001b[0m   \u001b[0mdata\u001b[0m\u001b[0;34m[\u001b[0m\u001b[0mc\u001b[0m\u001b[0;34m]\u001b[0m\u001b[0;34m.\u001b[0m\u001b[0mfillna\u001b[0m\u001b[0;34m(\u001b[0m\u001b[0;34m(\u001b[0m\u001b[0mdata\u001b[0m\u001b[0;34m[\u001b[0m\u001b[0mc\u001b[0m\u001b[0;34m]\u001b[0m\u001b[0;34m.\u001b[0m\u001b[0mmean\u001b[0m\u001b[0;34m(\u001b[0m\u001b[0;34m)\u001b[0m\u001b[0;34m)\u001b[0m\u001b[0;34m,\u001b[0m\u001b[0minplace\u001b[0m\u001b[0;34m=\u001b[0m\u001b[0;32mTrue\u001b[0m\u001b[0;34m)\u001b[0m\u001b[0;34m\u001b[0m\u001b[0;34m\u001b[0m\u001b[0m\n",
            "\u001b[0;31mNameError\u001b[0m: name 'num_cols' is not defined"
          ]
        }
      ]
    },
    {
      "cell_type": "code",
      "source": [
        "data.isnull().sum()"
      ],
      "metadata": {
        "colab": {
          "base_uri": "https://localhost:8080/"
        },
        "id": "lICzVp453tj3",
        "outputId": "63d34347-f842-4b76-bdc5-55b04ffaa83f"
      },
      "execution_count": null,
      "outputs": [
        {
          "output_type": "execute_result",
          "data": {
            "text/plain": [
              "ID                    0\n",
              "vendor_id             0\n",
              "pickup_loc            1\n",
              "drop_loc              1\n",
              "driver_tip            2\n",
              "mta_tax               1\n",
              "distance              1\n",
              "pickup_time           1\n",
              "drop_time             1\n",
              "num_passengers        1\n",
              "toll_amount           2\n",
              "payment_method        1\n",
              "rate_code             1\n",
              "stored_flag           1\n",
              "extra_charges         1\n",
              "improvement_charge    2\n",
              "total_amount          2\n",
              "dtype: int64"
            ]
          },
          "metadata": {},
          "execution_count": 9
        }
      ]
    },
    {
      "cell_type": "code",
      "source": [
        "data.info()"
      ],
      "metadata": {
        "colab": {
          "base_uri": "https://localhost:8080/"
        },
        "id": "K0EhbBA53wAh",
        "outputId": "18f378cf-c166-437a-f532-05afb86565f9"
      },
      "execution_count": null,
      "outputs": [
        {
          "output_type": "stream",
          "name": "stdout",
          "text": [
            "<class 'pandas.core.frame.DataFrame'>\n",
            "RangeIndex: 1048575 entries, 0 to 1048574\n",
            "Data columns (total 17 columns):\n",
            " #   Column              Non-Null Count    Dtype  \n",
            "---  ------              --------------    -----  \n",
            " 0   ID                  1048575 non-null  int64  \n",
            " 1   vendor_id           1048575 non-null  object \n",
            " 2   pickup_loc          1048574 non-null  float64\n",
            " 3   drop_loc            1048574 non-null  float64\n",
            " 4   driver_tip          1048573 non-null  object \n",
            " 5   mta_tax             1048574 non-null  object \n",
            " 6   distance            1048574 non-null  float64\n",
            " 7   pickup_time         1048574 non-null  object \n",
            " 8   drop_time           1048574 non-null  object \n",
            " 9   num_passengers      1048574 non-null  float64\n",
            " 10  toll_amount         1048573 non-null  object \n",
            " 11  payment_method      1048574 non-null  float64\n",
            " 12  rate_code           1048574 non-null  float64\n",
            " 13  stored_flag         1048574 non-null  object \n",
            " 14  extra_charges       1048574 non-null  object \n",
            " 15  improvement_charge  1048573 non-null  object \n",
            " 16  total_amount        1048573 non-null  object \n",
            "dtypes: float64(6), int64(1), object(10)\n",
            "memory usage: 136.0+ MB\n"
          ]
        }
      ]
    },
    {
      "cell_type": "code",
      "source": [
        "for c in cat_cols :\n",
        "  data[c] = pd.to_numeric(data[c], errors='coerce')"
      ],
      "metadata": {
        "colab": {
          "base_uri": "https://localhost:8080/",
          "height": 158
        },
        "id": "5JqX8yxh3yaH",
        "outputId": "c669891d-93bd-4943-dfef-dcf7f2f21d0b"
      },
      "execution_count": null,
      "outputs": [
        {
          "output_type": "error",
          "ename": "NameError",
          "evalue": "name 'cat_cols' is not defined",
          "traceback": [
            "\u001b[0;31m---------------------------------------------------------------------------\u001b[0m",
            "\u001b[0;31mNameError\u001b[0m                                 Traceback (most recent call last)",
            "\u001b[0;32m<ipython-input-12-2beb3c6a94a2>\u001b[0m in \u001b[0;36m<cell line: 1>\u001b[0;34m()\u001b[0m\n\u001b[0;32m----> 1\u001b[0;31m \u001b[0;32mfor\u001b[0m \u001b[0mc\u001b[0m \u001b[0;32min\u001b[0m \u001b[0mcat_cols\u001b[0m \u001b[0;34m:\u001b[0m\u001b[0;34m\u001b[0m\u001b[0;34m\u001b[0m\u001b[0m\n\u001b[0m\u001b[1;32m      2\u001b[0m   \u001b[0mdata\u001b[0m\u001b[0;34m[\u001b[0m\u001b[0mc\u001b[0m\u001b[0;34m]\u001b[0m \u001b[0;34m=\u001b[0m \u001b[0mpd\u001b[0m\u001b[0;34m.\u001b[0m\u001b[0mto_numeric\u001b[0m\u001b[0;34m(\u001b[0m\u001b[0mdata\u001b[0m\u001b[0;34m[\u001b[0m\u001b[0mc\u001b[0m\u001b[0;34m]\u001b[0m\u001b[0;34m,\u001b[0m \u001b[0merrors\u001b[0m\u001b[0;34m=\u001b[0m\u001b[0;34m'coerce'\u001b[0m\u001b[0;34m)\u001b[0m\u001b[0;34m\u001b[0m\u001b[0;34m\u001b[0m\u001b[0m\n",
            "\u001b[0;31mNameError\u001b[0m: name 'cat_cols' is not defined"
          ]
        }
      ]
    },
    {
      "cell_type": "code",
      "source": [
        "data.info()\n"
      ],
      "metadata": {
        "colab": {
          "base_uri": "https://localhost:8080/"
        },
        "id": "PfGkVXhy31Nl",
        "outputId": "fe1143e2-f217-4f6f-88c3-3514cfb3e57a"
      },
      "execution_count": null,
      "outputs": [
        {
          "output_type": "stream",
          "name": "stdout",
          "text": [
            "<class 'pandas.core.frame.DataFrame'>\n",
            "RangeIndex: 1048575 entries, 0 to 1048574\n",
            "Data columns (total 17 columns):\n",
            " #   Column              Non-Null Count    Dtype  \n",
            "---  ------              --------------    -----  \n",
            " 0   ID                  1048575 non-null  int64  \n",
            " 1   vendor_id           1048575 non-null  object \n",
            " 2   pickup_loc          1048574 non-null  float64\n",
            " 3   drop_loc            1048574 non-null  float64\n",
            " 4   driver_tip          1048573 non-null  object \n",
            " 5   mta_tax             1048574 non-null  object \n",
            " 6   distance            1048574 non-null  float64\n",
            " 7   pickup_time         1048574 non-null  object \n",
            " 8   drop_time           1048574 non-null  object \n",
            " 9   num_passengers      1048574 non-null  float64\n",
            " 10  toll_amount         1048573 non-null  object \n",
            " 11  payment_method      1048574 non-null  float64\n",
            " 12  rate_code           1048574 non-null  float64\n",
            " 13  stored_flag         1048574 non-null  object \n",
            " 14  extra_charges       1048574 non-null  object \n",
            " 15  improvement_charge  1048573 non-null  object \n",
            " 16  total_amount        1048573 non-null  object \n",
            "dtypes: float64(6), int64(1), object(10)\n",
            "memory usage: 136.0+ MB\n"
          ]
        }
      ]
    },
    {
      "cell_type": "code",
      "source": [
        "data.isnull().sum().sum()"
      ],
      "metadata": {
        "id": "d2-PF_b_379h"
      },
      "execution_count": null,
      "outputs": []
    },
    {
      "cell_type": "code",
      "source": [
        "data.dropna(inplace= True)"
      ],
      "metadata": {
        "id": "CB0fQMKv3-kr"
      },
      "execution_count": null,
      "outputs": []
    },
    {
      "cell_type": "code",
      "source": [
        "data.shape"
      ],
      "metadata": {
        "colab": {
          "base_uri": "https://localhost:8080/"
        },
        "id": "wv3JQe534AzW",
        "outputId": "06286a6a-747f-4223-e665-8f34d7789902"
      },
      "execution_count": null,
      "outputs": [
        {
          "output_type": "execute_result",
          "data": {
            "text/plain": [
              "(1048573, 17)"
            ]
          },
          "metadata": {},
          "execution_count": 15
        }
      ]
    },
    {
      "cell_type": "code",
      "source": [
        "y=data['total_amount']"
      ],
      "metadata": {
        "id": "YWDUivyG4xdk"
      },
      "execution_count": null,
      "outputs": []
    },
    {
      "cell_type": "code",
      "source": [
        "data.drop([\"total_amount\"], axis=1, inplace = True)"
      ],
      "metadata": {
        "id": "jMh8I4Vj4zqs"
      },
      "execution_count": null,
      "outputs": []
    },
    {
      "cell_type": "code",
      "source": [
        "data.shape"
      ],
      "metadata": {
        "id": "lwVz9M4Q41kH"
      },
      "execution_count": null,
      "outputs": []
    },
    {
      "cell_type": "code",
      "source": [
        "from xgboost import XGBRegressor\n",
        "train_x,test_x,train_y,test_y=train_test_split(data,y,test_size=.075,random_state=42)"
      ],
      "metadata": {
        "id": "EFkAPcBX43rI"
      },
      "execution_count": null,
      "outputs": []
    },
    {
      "cell_type": "code",
      "source": [
        "model = XGBRegressor(max_depth=8, n_estimators = 750, learning_rate= 0.025,random_state=42)\n",
        "model.fit(train_x,train_y)"
      ],
      "metadata": {
        "id": "fljfVsD8452q"
      },
      "execution_count": null,
      "outputs": []
    },
    {
      "cell_type": "code",
      "source": [
        "model.score(train_x,train_y)"
      ],
      "metadata": {
        "id": "PGFiJQDK477p"
      },
      "execution_count": null,
      "outputs": []
    },
    {
      "cell_type": "code",
      "source": [
        "model.score(test_x,test_y)"
      ],
      "metadata": {
        "id": "zQU34cpI493I"
      },
      "execution_count": null,
      "outputs": []
    },
    {
      "cell_type": "code",
      "source": [
        "test=pd.read_csv(\"../input/chh-ola/test.csv\")"
      ],
      "metadata": {
        "id": "EQxbFpSX4_xL"
      },
      "execution_count": null,
      "outputs": []
    },
    {
      "cell_type": "code",
      "source": [
        "test['pickup_time']=pd.to_datetime(test['pickup_time'])\n",
        "test['drop_time']=pd.to_datetime(test['drop_time'])\n",
        "test['trip_duration']=test['drop_time']-test['pickup_time']\n",
        "test['trip_duration'] = test['trip_duration'].astype('timedelta64[s]')"
      ],
      "metadata": {
        "id": "jHiKOpOI5CZ_"
      },
      "execution_count": null,
      "outputs": []
    },
    {
      "cell_type": "code",
      "source": [
        "test.shape"
      ],
      "metadata": {
        "id": "AGVeNyFZ5E4A"
      },
      "execution_count": null,
      "outputs": []
    },
    {
      "cell_type": "code",
      "source": [
        "test.info()"
      ],
      "metadata": {
        "id": "-r6f7wSc5HY5"
      },
      "execution_count": null,
      "outputs": []
    },
    {
      "cell_type": "code",
      "source": [
        "test.drop(['pickup_time', \"drop_time\",'ID', \"vendor_id\", \"drop_loc\", \"pickup_loc\", \"stored_flag\", \"mta_tax\", \"improvement_charge\" ], axis = 1, inplace = True)"
      ],
      "metadata": {
        "id": "uszRfqoL5Jei"
      },
      "execution_count": null,
      "outputs": []
    },
    {
      "cell_type": "code",
      "source": [
        "test.shape"
      ],
      "metadata": {
        "id": "KIn4qjvf5OHy"
      },
      "execution_count": null,
      "outputs": []
    },
    {
      "cell_type": "code",
      "source": [
        "test.info()"
      ],
      "metadata": {
        "id": "6lCuj1ja5P8a"
      },
      "execution_count": null,
      "outputs": []
    },
    {
      "cell_type": "code",
      "source": [
        "predict = model.predict(test)"
      ],
      "metadata": {
        "id": "Gmd7znv75SZ7"
      },
      "execution_count": null,
      "outputs": []
    },
    {
      "cell_type": "code",
      "source": [
        "ID = np.arange(154235)"
      ],
      "metadata": {
        "id": "bGcc_tNs5UMj"
      },
      "execution_count": null,
      "outputs": []
    },
    {
      "cell_type": "code",
      "source": [
        "len(ID)"
      ],
      "metadata": {
        "id": "b5Klsmqo5WPx"
      },
      "execution_count": null,
      "outputs": []
    },
    {
      "cell_type": "code",
      "source": [
        "df = pd.DataFrame({\"ID\" : ID,\n",
        "                   \"total_amount\" : predict}, columns = [\"ID\", \"total_amount\"]).set_index(\"ID\")"
      ],
      "metadata": {
        "id": "f4Y7si5Y5YGL"
      },
      "execution_count": null,
      "outputs": []
    },
    {
      "cell_type": "code",
      "source": [
        "df.head()"
      ],
      "metadata": {
        "id": "zcX6redr5aQ6"
      },
      "execution_count": null,
      "outputs": []
    }
  ]
}